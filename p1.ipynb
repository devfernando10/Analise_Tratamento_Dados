{
 "cells": [
  {
   "cell_type": "code",
   "execution_count": null,
   "metadata": {},
   "outputs": [],
   "source": [
    "# CÓDIGO DA ANÁLISE E TRATAMENTO DOS DADOS:\n",
    "\n",
    "import pandas as pd\n",
    "tabela = pd.read_csv(\"cancelamentos.csv\")\n",
    "display(tabela)\n",
    "tabela = tabela.drop(\"CustomerID\", axis=1)\n",
    "display(tabela)\n",
    "display(tabela.info())\n",
    "tabela = tabela.dropna()\n",
    "display(tabela.info())\n",
    "display(tabela[\"cancelou\"].value_counts(normalize=True).map(\"{:.1%}\".format))\n",
    "display(tabela[\"duracao_contrato\"].value_counts(normalize=True).map(\"{:.1%}\".format))\n",
    "display(tabela.groupby(\"duracao_contrato\").mean(numeric_only=True))\n",
    "tabela = tabela[tabela[\"duracao_contrato\"]!=\"Monthly\"]\n",
    "display(tabela[\"cancelou\"].value_counts(normalize=True).map(\"{:.1%}\".format))\n",
    "display(tabela[\"assinatura\"].value_counts(normalize=True).map(\"{:.1%}\".format))\n",
    "display(tabela.groupby(\"assinatura\").mean(numeric_only=True))"
   ]
  },
  {
   "cell_type": "code",
   "execution_count": null,
   "metadata": {},
   "outputs": [],
   "source": [
    "# CÓDIGO DOS GRÁFICOS USADOS PARA UMA ANÁLISE MAIS PROFUNDA:\n",
    "\n",
    "import plotly.express as px\n",
    "for coluna in tabela.columns:\n",
    "    grafico = px.histogram(tabela, x=coluna, color=\"cancelou\")\n",
    "    grafico.show()"
   ]
  },
  {
   "cell_type": "code",
   "execution_count": null,
   "metadata": {},
   "outputs": [],
   "source": [
    "# DIANTE UMA PROFUNDA ANÁLISE CHEGUEI AS SEGUINTES CONCLUSÕES:\n",
    "\n",
    "# após 5 ligações call center, 100% dos clientes cancelam.\n",
    "tabela = tabela[tabela[\"ligacoes_callcenter\"]<5]\n",
    "# se o cliente atrasar o pagamento em 20 dias, ele(a) irá cancelar.\n",
    "tabela = tabela[tabela[\"dias_atraso\"]<=20]\n",
    "# a forma de pagamento do plano mensal não está sendo lucrativo.\n",
    "tabela = tabela[tabela[\"duracao_contrato\"]!=\"Monthly\"]\n",
    "\n",
    "# VISUALIZAÇÃO DO CANCELAMENTO ULTILIZANDO OS PARÂMETROS ACIMA:\n",
    "display(tabela[\"cancelou\"].value_counts(normalize=True).map(\"{:.1%}\".format))"
   ]
  }
 ],
 "metadata": {
  "kernelspec": {
   "display_name": "Python 3",
   "language": "python",
   "name": "python3"
  },
  "language_info": {
   "codemirror_mode": {
    "name": "ipython",
    "version": 3
   },
   "file_extension": ".py",
   "mimetype": "text/x-python",
   "name": "python",
   "nbconvert_exporter": "python",
   "pygments_lexer": "ipython3",
   "version": "3.11.4"
  },
  "orig_nbformat": 4
 },
 "nbformat": 4,
 "nbformat_minor": 2
}
